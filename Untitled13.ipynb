{
  "nbformat": 4,
  "nbformat_minor": 0,
  "metadata": {
    "colab": {
      "name": "Untitled13.ipynb",
      "provenance": [],
      "toc_visible": true,
      "authorship_tag": "ABX9TyNzLxdJaNghBBCpHl1s8GSF",
      "include_colab_link": true
    },
    "kernelspec": {
      "name": "python3",
      "display_name": "Python 3"
    },
    "language_info": {
      "name": "python"
    }
  },
  "cells": [
    {
      "cell_type": "markdown",
      "metadata": {
        "id": "view-in-github",
        "colab_type": "text"
      },
      "source": [
        "<a href=\"https://colab.research.google.com/github/pachecomejia/unidad_3Final/blob/main/Untitled13.ipynb\" target=\"_parent\"><img src=\"https://colab.research.google.com/assets/colab-badge.svg\" alt=\"Open In Colab\"/></a>"
      ]
    },
    {
      "cell_type": "markdown",
      "source": [
        "Importaciones utilizadas en esta prueba para que funcione"
      ],
      "metadata": {
        "id": "JbDteQVUKdOP"
      }
    },
    {
      "cell_type": "code",
      "execution_count": 1,
      "metadata": {
        "id": "qIu49g9EJ4Tw"
      },
      "outputs": [],
      "source": [
        "from sqlalchemy import create_engine\n",
        "from sqlalchemy import MetaData\n",
        "from sqlalchemy import Table, Column, Integer, String \n",
        "from sqlalchemy import insert, select, update, delete"
      ]
    },
    {
      "cell_type": "markdown",
      "source": [
        "creacion de la base de datos"
      ],
      "metadata": {
        "id": "hkMsyfQFKlvn"
      }
    },
    {
      "cell_type": "code",
      "source": [
        "engine = create_engine('sqlite:///clientes.db')"
      ],
      "metadata": {
        "id": "_lj0YNSeKAlO"
      },
      "execution_count": 2,
      "outputs": []
    },
    {
      "cell_type": "code",
      "source": [
        "metadata = MetaData()"
      ],
      "metadata": {
        "id": "1qDNml7YKDIe"
      },
      "execution_count": 3,
      "outputs": []
    },
    {
      "cell_type": "code",
      "source": [
        "clientes = Table(\n",
        "    'clientes', metadata,\n",
        "    Column('id_cliente', Integer, primary_key=True),\n",
        "    Column('nombre', String, nullable= False),\n",
        "    Column('email', String, nullable= False)\n",
        "\n",
        ")"
      ],
      "metadata": {
        "id": "RDexmnSUKGnO"
      },
      "execution_count": 4,
      "outputs": []
    },
    {
      "cell_type": "code",
      "source": [
        "print(type(clientes))"
      ],
      "metadata": {
        "colab": {
          "base_uri": "https://localhost:8080/"
        },
        "id": "WbHk50KzKIyO",
        "outputId": "68ccae0f-bba7-4825-bf0f-02f270659ec6"
      },
      "execution_count": 5,
      "outputs": [
        {
          "output_type": "stream",
          "name": "stdout",
          "text": [
            "<class 'sqlalchemy.sql.schema.Table'>\n"
          ]
        }
      ]
    },
    {
      "cell_type": "code",
      "source": [
        "metadata.create_all(engine)"
      ],
      "metadata": {
        "id": "fFWbog3KKLWm"
      },
      "execution_count": 6,
      "outputs": []
    },
    {
      "cell_type": "markdown",
      "source": [
        "primera insertacion simple"
      ],
      "metadata": {
        "id": "aZ28ZJjgLqBf"
      }
    },
    {
      "cell_type": "code",
      "source": [
        "stmt = insert(clientes).values(nombre=\"cliente 1\",email=\"cliente1@email.com\")\n",
        "print(type(stmt))\n",
        "print(stmt)"
      ],
      "metadata": {
        "colab": {
          "base_uri": "https://localhost:8080/"
        },
        "id": "4XS-XveIKTrn",
        "outputId": "4d8f4c66-5dae-4c3a-dd12-ee358c350000"
      },
      "execution_count": 7,
      "outputs": [
        {
          "output_type": "stream",
          "name": "stdout",
          "text": [
            "<class 'sqlalchemy.sql.dml.Insert'>\n",
            "INSERT INTO clientes (nombre, email) VALUES (:nombre, :email)\n"
          ]
        }
      ]
    },
    {
      "cell_type": "code",
      "source": [
        "with engine.connect() as conn: \n",
        "  result = conn.execute(stmt)"
      ],
      "metadata": {
        "id": "JPuqStJFKar3"
      },
      "execution_count": 8,
      "outputs": []
    },
    {
      "cell_type": "markdown",
      "source": [
        "creacion de mas insertaciones"
      ],
      "metadata": {
        "id": "wz1jZmZfKqyP"
      }
    },
    {
      "cell_type": "code",
      "source": [
        "data = [\n",
        "    {\"nombre\": \"Cliente 2\", \"email\":\"cliente2@email.com\"},\n",
        "    {\"nombre\": \"Cliente 3\", \"email\":\"cliente3@email.com\"},\n",
        "    {\"nombre\": \"Cliente 4\", \"email\":\"cliente4@email.com\"},\n",
        "\n",
        "\n",
        "]\n",
        "stmt = insert(clientes).values(data)\n",
        "print(type(stmt))\n",
        "print(stmt)"
      ],
      "metadata": {
        "colab": {
          "base_uri": "https://localhost:8080/"
        },
        "id": "BqBXOumuKtsY",
        "outputId": "c5b11833-dd56-47bd-b156-985cc877c9eb"
      },
      "execution_count": 9,
      "outputs": [
        {
          "output_type": "stream",
          "name": "stdout",
          "text": [
            "<class 'sqlalchemy.sql.dml.Insert'>\n",
            "INSERT INTO clientes (nombre, email) VALUES (:nombre_m0, :email_m0), (:nombre_m1, :email_m1), (:nombre_m2, :email_m2)\n"
          ]
        }
      ]
    },
    {
      "cell_type": "markdown",
      "source": [
        "se realiza el select a las datos ingresados"
      ],
      "metadata": {
        "id": "cSakEGr7LGd_"
      }
    },
    {
      "cell_type": "code",
      "source": [
        "stmt = select(clientes)\n",
        "print(type(stmt))\n",
        "print(stmt)"
      ],
      "metadata": {
        "colab": {
          "base_uri": "https://localhost:8080/"
        },
        "id": "36OAyG5nLSdH",
        "outputId": "86d6105d-c924-4d56-cc9a-fe1d872e920e"
      },
      "execution_count": 11,
      "outputs": [
        {
          "output_type": "stream",
          "name": "stdout",
          "text": [
            "<class 'sqlalchemy.sql.selectable.Select'>\n",
            "SELECT clientes.id_cliente, clientes.nombre, clientes.email \n",
            "FROM clientes\n"
          ]
        }
      ]
    },
    {
      "cell_type": "code",
      "source": [
        "with engine.connect() as conn:\n",
        "  result = conn.execute(stmt)\n",
        "  for row in result.fetchall():\n",
        "      print(row)"
      ],
      "metadata": {
        "colab": {
          "base_uri": "https://localhost:8080/"
        },
        "id": "EuKf6pRMLJ-H",
        "outputId": "790c702d-d011-4062-c1a3-717114785107"
      },
      "execution_count": 12,
      "outputs": [
        {
          "output_type": "stream",
          "name": "stdout",
          "text": [
            "(1, 'cliente 1', 'cliente1@email.com')\n",
            "(2, 'Cliente 2', 'cliente2@email.com')\n",
            "(3, 'Cliente 3', 'cliente3@email.com')\n",
            "(4, 'Cliente 4', 'cliente4@email.com')\n"
          ]
        }
      ]
    }
  ]
}